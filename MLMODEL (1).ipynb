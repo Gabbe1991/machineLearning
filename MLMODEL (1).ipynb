{
 "cells": [
  {
   "cell_type": "code",
   "execution_count": 1,
   "id": "10e42751-d28d-45ad-b353-836caa6c9832",
   "metadata": {},
   "outputs": [
    {
     "name": "stdout",
     "output_type": "stream",
     "text": [
      "<class 'sklearn.utils._bunch.Bunch'>\n",
      "data\n",
      "target\n",
      "frame\n",
      "categories\n",
      "feature_names\n",
      "target_names\n",
      "DESCR\n",
      "details\n",
      "url\n"
     ]
    }
   ],
   "source": [
    "import numpy as np\n",
    "from sklearn.datasets import fetch_openml\n",
    "from sklearn.model_selection import train_test_split\n",
    "from sklearn.metrics import accuracy_score\n",
    "from sklearn.svm import SVC \n",
    "import matplotlib.pyplot as plt\n",
    "import seaborn as sns\n",
    "from sklearn.metrics import confusion_matrix\n",
    "from sklearn.ensemble import RandomForestClassifier  # Import RandomForestClassifier (New)\n",
    "import pandas as pd\n",
    "import time\n",
    "import matplotlib.pyplot as plt\n",
    "from sklearn.metrics import precision_score, recall_score, f1_score\n",
    "import matplotlib.pyplot as plt\n",
    "import tensorflow as tf\n",
    "from keras.models import Sequential\n",
    "from keras.layers import Dense, Conv2D, Dropout, Flatten, MaxPooling2D\n",
    "import cv2 as cv\n",
    "from keras.models import Sequential\n",
    "from keras.layers import Dense\n",
    "x\n",
    "\n",
    "\n",
    "\n",
    "mnist = fetch_openml('mnist_784', version=1, cache=True, as_frame=False)\n",
    "\n",
    "X = mnist[\"data\"]\n",
    "y = mnist[\"target\"].astype(np.uint8)\n",
    "Z = mnist[\"feature_names\"]\n",
    "A = mnist[\"target_names\"]\n",
    "F = mnist[\"DESCR\"]\n",
    "O = mnist[\"details\"]\n",
    "B = mnist[\"frame\"]\n",
    "N = mnist[\"categories\"]\n",
    "M = mnist[\"url\"]\n",
    "\n",
    "print(type(mnist))\n",
    "for key in mnist.keys():\n",
    "\n",
    "\n",
    "    \n",
    "    print(key)"
   ]
  },
  {
   "cell_type": "code",
   "execution_count": 2,
   "id": "d9bf4e62-1ad7-4abf-9247-63b9d1f1f4b8",
   "metadata": {},
   "outputs": [],
   "source": [
    "X = X[:70000]\n",
    "y = y[:70000]"
   ]
  },
  {
   "cell_type": "code",
   "execution_count": 3,
   "id": "8410d97d-d812-430d-bb0c-68a7eaea754d",
   "metadata": {
    "scrolled": true
   },
   "outputs": [
    {
     "name": "stdout",
     "output_type": "stream",
     "text": [
      "Accuracy: 97.64285714285714\n",
      "im am done, i took  256.5903944969177 seconds\n"
     ]
    }
   ],
   "source": [
    "start = time.time()\n",
    "###print(y[:10])\n",
    "\n",
    "svm_model = SVC(kernel='rbf', random_state=42)\n",
    "###  data and testing sets\n",
    "\n",
    "X_train, X_test, y_train, y_test = train_test_split(X, y, test_size=0.2, random_state=42)\n",
    "X_train_scaled = X_train / 255\n",
    "X_test_scaled = X_test / 255\n",
    "svm_model.fit(X_train_scaled, y_train)\n",
    "\n",
    "y_pred = svm_model.predict(X_test_scaled)\n",
    "\n",
    "\n",
    "# Model evaluatation\n",
    "accuracy = accuracy_score(y_test, y_pred)\n",
    "print(\"Accuracy:\", accuracy * 100)\n",
    "\n",
    "stop  = time.time()\n",
    "print(\"im am done, i took \",stop - start, \"seconds\"  )\n",
    "\n",
    "\n",
    "#untill accuarsy is at 97% dont stop. \n",
    "\n"
   ]
  },
  {
   "cell_type": "code",
   "execution_count": 4,
   "id": "13a979cd-4dc2-4b33-bb8a-38fad599b92d",
   "metadata": {},
   "outputs": [
    {
     "name": "stdout",
     "output_type": "stream",
     "text": [
      "Random Forest Classifier Accuracy: 96.75\n",
      "Random Forest Classifier training complete in 35.10923361778259 seconds\n"
     ]
    }
   ],
   "source": [
    "# Start timing\n",
    "start_rf = time.time()\n",
    "\n",
    "# creates and train Random Forest Classifier\n",
    "rf_model = RandomForestClassifier(random_state=42)\n",
    "rf_model.fit(X_train_scaled, y_train)\n",
    "\n",
    "# predicts with Random Forest Classifier\n",
    "y_pred_rf = rf_model.predict(X_test_scaled)\n",
    "\n",
    "# Model evaluation for Random Forest Classifier\n",
    "accuracy_rf = accuracy_score(y_test, y_pred_rf)\n",
    "print(\"Random Forest Classifier Accuracy:\", accuracy_rf * 100)\n",
    "\n",
    "# Stop timing and print the time taken\n",
    "stop_rf = time.time()\n",
    "print(\"Random Forest Classifier training complete in\", stop_rf - start_rf, \"seconds\")"
   ]
  },
  {
   "cell_type": "code",
   "execution_count": 5,
   "id": "df41d60d-6cf2-498f-87ef-ec38495c8ae9",
   "metadata": {},
   "outputs": [
    {
     "name": "stdout",
     "output_type": "stream",
     "text": [
      "Confusion Matrix for SVM:\n",
      "[[1329    1    3    0    1    2    2    1    4    0]\n",
      " [   0 1585    4    3    2    0    0    4    2    0]\n",
      " [   3    4 1348    2    3    2    4    8    5    1]\n",
      " [   0    2   11 1386    2   11    1    9    7    4]\n",
      " [   1    0    2    0 1269    0    3    2    2   16]\n",
      " [   0    1    2   15    2 1236    9    1    7    0]\n",
      " [   1    0    0    0    4    4 1384    0    3    0]\n",
      " [   1    6   12    1    5    1    0 1465    1   11]\n",
      " [   2    6    8   12    4    9    6    4 1303    3]\n",
      " [   5    8    2    8   14    2    0   11    5 1365]]\n",
      "Precision for SVM: 0.9764205434434183\n",
      "Recall for SVM: 0.9764285714285714\n",
      "F1-score for SVM: 0.97640708117749\n",
      "\n",
      "\n",
      "Confusion Matrix for Random Forest Classifier:\n",
      "[[1325    0    4    0    1    1    3    1    6    2]\n",
      " [   0 1573    6    8    2    0    0    6    3    2]\n",
      " [   3    5 1335    4    5    1    9    8    8    2]\n",
      " [   1    0   23 1366    0    9    0   14   12    8]\n",
      " [   4    1    3    0 1256    0    2    3    3   23]\n",
      " [   1    3    3   17    4 1226    8    1    8    2]\n",
      " [   4    1    0    0    6   10 1372    0    3    0]\n",
      " [   3    5   15    0    7    1    0 1455    2   15]\n",
      " [   1    6    8   15    5   10    5    7 1293    7]\n",
      " [   4    6    5   16   20    5    1   10    9 1344]]\n",
      "Precision for Random Forest Classifier: 0.9675018656506922\n",
      "Recall for Random Forest Classifier: 0.9675\n",
      "F1-score for Random Forest Classifier: 0.9674871124026196\n"
     ]
    }
   ],
   "source": [
    "conf_matrix_svm = confusion_matrix(y_test, y_pred)\n",
    "\n",
    "# Compute precision, recall, and F1-score for SVM\n",
    "precision_svm = precision_score(y_test, y_pred, average='weighted')\n",
    "recall_svm = recall_score(y_test, y_pred, average='weighted')\n",
    "f1_svm = f1_score(y_test, y_pred, average='weighted')\n",
    "\n",
    "# Compute confusion matrix for Random Forest Classifier\n",
    "conf_matrix_rf = confusion_matrix(y_test, y_pred_rf)\n",
    "\n",
    "# Compute precision, recall, and F1-score for Random Forest Classifier\n",
    "precision_rf = precision_score(y_test, y_pred_rf, average='weighted')\n",
    "recall_rf = recall_score(y_test, y_pred_rf, average='weighted')\n",
    "f1_rf = f1_score(y_test, y_pred_rf, average='weighted')\n",
    "\n",
    "print(\"Confusion Matrix for SVM:\")\n",
    "print(conf_matrix_svm)\n",
    "print(\"Precision for SVM:\", precision_svm)\n",
    "print(\"Recall for SVM:\", recall_svm)\n",
    "print(\"F1-score for SVM:\", f1_svm)\n",
    "print(\"\\n\")\n",
    "\n",
    "print(\"Confusion Matrix for Random Forest Classifier:\")\n",
    "print(conf_matrix_rf)\n",
    "print(\"Precision for Random Forest Classifier:\", precision_rf)\n",
    "print(\"Recall for Random Forest Classifier:\", recall_rf)\n",
    "print(\"F1-score for Random Forest Classifier:\", f1_rf)"
   ]
  },
  {
   "cell_type": "code",
   "execution_count": null,
   "id": "a9efe5b1-dd43-4581-b5d6-0fabc59a9852",
   "metadata": {},
   "outputs": [],
   "source": []
  },
  {
   "cell_type": "code",
   "execution_count": 6,
   "id": "61c23733-03bc-429a-81a0-49f4344f29e7",
   "metadata": {},
   "outputs": [],
   "source": [
    "#model = tf.keras.models.load_model(\"C:/Users/A551110/PycharmProjects/keras_mnist/venv/mnistv2.model\")\n",
    "#file = \"C:/Users/A551110/Documents/images/7.png\"\n",
    "#model.evaluate(x_test, y_test)\n",
    "\n",
    "#image = cv.imread(file, cv.IMREAD_GRAYSCALE)\n",
    "#image = cv.resize(image, (28,28))\n",
    "#image = 255-image          #inverts image. Always gets read inverted.\n",
    "\n",
    "#plt.imshow(image.reshape(28, 28),cmap='Greys')\n",
    "#plt.show()\n",
    "#pred = model.predict(image.reshape(1, 28, 28, 1), batch_size=1)\n",
    "\n",
    "#print(pred.argmax())"
   ]
  },
  {
   "cell_type": "code",
   "execution_count": 7,
   "id": "edad1412-3178-463c-81ad-f8b498b9b888",
   "metadata": {},
   "outputs": [
    {
     "name": "stderr",
     "output_type": "stream",
     "text": [
      "C:\\Users\\gabej\\AppData\\Local\\Programs\\Python\\Python312\\Lib\\site-packages\\keras\\src\\layers\\core\\dense.py:88: UserWarning: Do not pass an `input_shape`/`input_dim` argument to a layer. When using Sequential models, prefer using an `Input(shape)` object as the first layer in the model instead.\n",
      "  super().__init__(activity_regularizer=activity_regularizer, **kwargs)\n"
     ]
    },
    {
     "name": "stdout",
     "output_type": "stream",
     "text": [
      "\u001b[1m438/438\u001b[0m \u001b[32m━━━━━━━━━━━━━━━━━━━━\u001b[0m\u001b[37m\u001b[0m \u001b[1m1s\u001b[0m 796us/step - accuracy: 0.0945 - loss: 199.8279\n",
      "<class 'list'>\n",
      "199.61436462402344\n",
      "0.0949285700917244\n"
     ]
    }
   ],
   "source": [
    "\n",
    "keras = Sequential([\n",
    "    Dense(units = 128, activation='relu',input_shape =(784,) ),\n",
    "    Dense(units = 64, activation='relu' ),\n",
    "     Dense(units = 10, activation='softmax' )\n",
    "\n",
    "    \n",
    "])\n",
    "keras.compile(loss='sparse_categorical_crossentropy',\n",
    "              optimizer='adadelta',\n",
    "              metrics=['accuracy'])\n",
    "keras_accuracy = keras.evaluate(X_test, y_test)\n",
    "print(type(keras_accuracy))\n",
    "for x in keras_accuracy:\n",
    "    print(x)\n",
    "    "
   ]
  },
  {
   "cell_type": "code",
   "execution_count": null,
   "id": "0f3f8432-bb32-4405-9f67-85e68c33dacd",
   "metadata": {},
   "outputs": [],
   "source": []
  }
 ],
 "metadata": {
  "kernelspec": {
   "display_name": "Python 3 (ipykernel)",
   "language": "python",
   "name": "python3"
  },
  "language_info": {
   "codemirror_mode": {
    "name": "ipython",
    "version": 3
   },
   "file_extension": ".py",
   "mimetype": "text/x-python",
   "name": "python",
   "nbconvert_exporter": "python",
   "pygments_lexer": "ipython3",
   "version": "3.12.0"
  }
 },
 "nbformat": 4,
 "nbformat_minor": 5
}
